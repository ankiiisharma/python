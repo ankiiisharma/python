{
 "cells": [
  {
   "cell_type": "code",
   "execution_count": 2,
   "id": "86dd4420",
   "metadata": {},
   "outputs": [
    {
     "name": "stdout",
     "output_type": "stream",
     "text": [
      "Enter link: https://youtu.be/xrNWtc0uVFg\n",
      "Downloading Finished!!\n"
     ]
    }
   ],
   "source": [
    "import os\n",
    "import pytube\n",
    "\n",
    "link = input('Enter link: ')\n",
    "yt = pytube.YouTube(link)\n",
    "yt.streams.first().download()\n",
    "print('Downloading Finished!!')"
   ]
  },
  {
   "cell_type": "code",
   "execution_count": null,
   "id": "c8a452a5",
   "metadata": {},
   "outputs": [],
   "source": []
  }
 ],
 "metadata": {
  "kernelspec": {
   "display_name": "Python 3 (ipykernel)",
   "language": "python",
   "name": "python3"
  },
  "language_info": {
   "codemirror_mode": {
    "name": "ipython",
    "version": 3
   },
   "file_extension": ".py",
   "mimetype": "text/x-python",
   "name": "python",
   "nbconvert_exporter": "python",
   "pygments_lexer": "ipython3",
   "version": "3.9.13"
  }
 },
 "nbformat": 4,
 "nbformat_minor": 5
}
