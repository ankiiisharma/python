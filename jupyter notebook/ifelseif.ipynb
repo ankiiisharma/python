{
 "cells": [
  {
   "cell_type": "code",
   "execution_count": null,
   "id": "098f604e",
   "metadata": {},
   "outputs": [],
   "source": [
    "a = input(\"Enter Value of a: \")\n",
    "a = int(a)\n",
    "\n",
    "if a > 0 :\n",
    "\n",
    "    print(\"Positive Number\")\n",
    "\n",
    "elif a==0 :\n",
    "    print(\"zero\")\n",
    "\n",
    "else :\n",
    "    print(\"Negative Number\")"
   ]
  },
  {
   "cell_type": "code",
   "execution_count": null,
   "id": "d3c3c106",
   "metadata": {},
   "outputs": [],
   "source": []
  },
  {
   "cell_type": "code",
   "execution_count": null,
   "id": "84177b26",
   "metadata": {},
   "outputs": [],
   "source": []
  }
 ],
 "metadata": {
  "kernelspec": {
   "display_name": "Python 3 (ipykernel)",
   "language": "python",
   "name": "python3"
  },
  "language_info": {
   "codemirror_mode": {
    "name": "ipython",
    "version": 3
   },
   "file_extension": ".py",
   "mimetype": "text/x-python",
   "name": "python",
   "nbconvert_exporter": "python",
   "pygments_lexer": "ipython3",
   "version": "3.9.13"
  }
 },
 "nbformat": 4,
 "nbformat_minor": 5
}
